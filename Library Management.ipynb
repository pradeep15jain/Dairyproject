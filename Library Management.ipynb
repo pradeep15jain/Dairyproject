{
 "cells": [
  {
   "cell_type": "code",
   "execution_count": null,
   "id": "27ddb459-a375-4e47-8a53-992ec9447d43",
   "metadata": {},
   "outputs": [
    {
     "name": "stdout",
     "output_type": "stream",
     "text": [
      "\n",
      "Menu:\n",
      "1. Login\n",
      "2. Exit\n"
     ]
    },
    {
     "name": "stdin",
     "output_type": "stream",
     "text": [
      "Enter your choice:  1\n",
      "Enter your username:  user1\n",
      "Enter your password:  password1\n"
     ]
    },
    {
     "name": "stdout",
     "output_type": "stream",
     "text": [
      "Login successful.\n",
      "\n",
      "Library Menu:\n",
      "1. Display available books\n",
      "2. Borrow a book\n",
      "3. Return a book\n",
      "4. Display borrowed books\n",
      "5. Logout\n"
     ]
    },
    {
     "name": "stdin",
     "output_type": "stream",
     "text": [
      "Enter your choice:  1\n"
     ]
    },
    {
     "name": "stdout",
     "output_type": "stream",
     "text": [
      "Available Books:\n",
      "Math - 0\n",
      "\n",
      "Library Menu:\n",
      "1. Display available books\n",
      "2. Borrow a book\n",
      "3. Return a book\n",
      "4. Display borrowed books\n",
      "5. Logout\n"
     ]
    }
   ],
   "source": [
    "#library Management program\n",
    "\n",
    "users = {\"user1\": \"password1\", \"user2\": \"password2\"}\n",
    "books = {\"Math\": 0}\n",
    "borrowed_books = {}\n",
    "\n",
    "while True:\n",
    "    print(\"\\nMenu:\")\n",
    "    print(\"1. Login\")\n",
    "    print(\"2. Exit\")\n",
    "    choice = input(\"Enter your choice: \")\n",
    "\n",
    "    if choice == \"1\":\n",
    "        username = input(\"Enter your username: \")\n",
    "        password = input(\"Enter your password: \")\n",
    "\n",
    "        if username in users and users[username] == password:\n",
    "            print(\"Login successful.\")\n",
    "\n",
    "            while True:\n",
    "                print(\"\\nLibrary Menu:\")\n",
    "                print(\"1. Display available books\")\n",
    "                print(\"2. Borrow a book\")\n",
    "                print(\"3. Return a book\")\n",
    "                print(\"4. Display borrowed books\")\n",
    "                print(\"5. Logout\")\n",
    "                sub_choice = input(\"Enter your choice: \")\n",
    "\n",
    "                if sub_choice == \"1\":\n",
    "                    print(\"Available Books:\")\n",
    "                    for book, count in books.items():\n",
    "                        print(f\"{book} - {count}\")\n",
    "                elif sub_choice == \"2\":\n",
    "                    book_to_borrow = input(\"Enter the book you want to borrow: \")\n",
    "                    if book_to_borrow in books and books[book_to_borrow] > 0:\n",
    "                        if username not in borrowed_books:\n",
    "                            borrowed_books[username] = []\n",
    "                        borrowed_books[username].append(book_to_borrow)\n",
    "                        books[book_to_borrow] -= 1\n",
    "                        print(f\"{username} has borrowed {book_to_borrow}.\")\n",
    "                    else:\n",
    "                        print(\"Book not available for borrowing.\")\n",
    "                elif sub_choice == \"3\":\n",
    "                    book_to_return = input(\"Enter the book you want to return: \")\n",
    "                    if username in borrowed_books and book_to_return in borrowed_books[username]:\n",
    "                        borrowed_books[username].remove(book_to_return)\n",
    "                        books[book_to_return] += 1\n",
    "                        print(f\"{username} has returned {book_to_return}.\")\n",
    "                    else:\n",
    "                        print(\"You haven't borrowed this book or it's not a valid book.\")\n",
    "                elif sub_choice == \"4\":\n",
    "                    if username in borrowed_books:\n",
    "                        print(f\"{username}'s Borrowed Books:\")\n",
    "                        for book in borrowed_books[username]:\n",
    "                            print(book)\n",
    "                    else:\n",
    "                        print(f\"{username} has not borrowed any books.\")\n",
    "                elif sub_choice == \"5\":\n",
    "                    print(\"Logout successful.\")\n",
    "                    break\n",
    "                else:\n",
    "                    print(\"Invalid choice. Please try again.\")\n",
    "        else:\n",
    "            print(\"Login failed. Please check your username and password.\")\n",
    "    elif choice == \"2\":\n",
    "        print(\"Goodbye!\")\n",
    "        break\n",
    "    else:\n",
    "        print(\"Invalid choice. Please try again.\")\n"
   ]
  }
 ],
 "metadata": {
  "kernelspec": {
   "display_name": "Python 3 (ipykernel)",
   "language": "python",
   "name": "python3"
  },
  "language_info": {
   "codemirror_mode": {
    "name": "ipython",
    "version": 3
   },
   "file_extension": ".py",
   "mimetype": "text/x-python",
   "name": "python",
   "nbconvert_exporter": "python",
   "pygments_lexer": "ipython3",
   "version": "3.11.5"
  }
 },
 "nbformat": 4,
 "nbformat_minor": 5
}
