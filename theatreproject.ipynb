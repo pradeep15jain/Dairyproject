{
 "cells": [
  {
   "cell_type": "code",
   "execution_count": null,
   "id": "395cb2e7-72f4-4fa9-83a1-fff6d5a738ea",
   "metadata": {},
   "outputs": [
    {
     "name": "stdin",
     "output_type": "stream",
     "text": [
      "Enter name:  pradee\n",
      "Enter mobile number:  546546\n",
      "Enter age:  25\n"
     ]
    },
    {
     "name": "stdout",
     "output_type": "stream",
     "text": [
      "Welcome to the Theatre Ticket Booking System\n",
      "Press 1 for normal seats (price - 150/-)\n",
      "Press 2 for recliner seats (price - 200/-) \n",
      "Press 3 for combo seats (price - 300/-)\n"
     ]
    },
    {
     "name": "stdin",
     "output_type": "stream",
     "text": [
      "Enter your choice between 1 or 2 or 3:  3\n",
      "Enter number of seats:  2\n"
     ]
    },
    {
     "name": "stdout",
     "output_type": "stream",
     "text": [
      "Food combo is also available... (combo: popcorn + cold drink)\n",
      "______________________________\n",
      "Bill:  600\n",
      "Mobile Numbers:  546546\n",
      "Ages:  25\n",
      "------------------------------\n"
     ]
    },
    {
     "name": "stdin",
     "output_type": "stream",
     "text": [
      "Next person? (yes/no):  y\n",
      "Enter name:  dfs\n",
      "Enter mobile number:  146546\n",
      "Enter age:  25\n"
     ]
    },
    {
     "name": "stdout",
     "output_type": "stream",
     "text": [
      "Welcome to the Theatre Ticket Booking System\n",
      "Press 1 for normal seats (price - 150/-)\n",
      "Press 2 for recliner seats (price - 200/-) \n",
      "Press 3 for combo seats (price - 300/-)\n"
     ]
    },
    {
     "name": "stdin",
     "output_type": "stream",
     "text": [
      "Enter your choice between 1 or 2 or 3:  2\n",
      "Enter number of seats:  2\n"
     ]
    },
    {
     "name": "stdout",
     "output_type": "stream",
     "text": [
      "______________________________\n",
      "Bill:  400\n",
      "Mobile Numbers:  146546\n",
      "Ages:  25\n",
      "------------------------------\n"
     ]
    }
   ],
   "source": [
    "# Theatre\n",
    "price_normal = 150\n",
    "price_recliner = 200\n",
    "price_combo = 300\n",
    "total = 0\n",
    "normal = 150\n",
    "recliner = 50\n",
    "combo = 50  \n",
    "\n",
    "\n",
    "mobile_numbers = []\n",
    "ages = []\n",
    "\n",
    "while True:\n",
    "    mobile_numbers.clear()  \n",
    "    ages.clear()     \n",
    "    \n",
    "    name = input(\"Enter name: \")\n",
    "    mobile_number = input(\"Enter mobile number: \")\n",
    "    age = int(input(\"Enter age: \"))\n",
    "\n",
    "    \n",
    "    mobile_numbers.append(mobile_number)\n",
    "    ages.append(age)\n",
    "\n",
    "    print(\"Welcome to the Theatre Ticket Booking System\")\n",
    "    print(\"\"\"Press 1 for normal seats (price - 150/-)\n",
    "Press 2 for recliner seats (price - 200/-) \n",
    "Press 3 for combo seats (price - 300/-)\"\"\")\n",
    "    \n",
    "    choice = int(input(\"Enter your choice between 1 or 2 or 3: \"))\n",
    "    seats = int(input(\"Enter number of seats: \"))\n",
    "    \n",
    "    if choice == 1:\n",
    "        if seats <= normal:\n",
    "            total = seats * price_normal\n",
    "            normal -= seats\n",
    "        else:\n",
    "            print(\"Not enough normal seats available.\")\n",
    "    \n",
    "    elif choice == 2:\n",
    "        if seats <= recliner:\n",
    "            total = seats * price_recliner\n",
    "            recliner -= seats\n",
    "        else:\n",
    "            print(\"Not enough recliner seats available.\")\n",
    "        \n",
    "    elif choice == 3:\n",
    "        if seats <= combo:\n",
    "            print(\"Food combo is also available... (combo: popcorn + cold drink)\")\n",
    "            total = seats * price_combo\n",
    "            combo -= seats\n",
    "        else:\n",
    "            print(\"Not enough combo seats available.\")\n",
    "          \n",
    "    else:\n",
    "        print(\"Invalid input... try again\")\n",
    "        \n",
    "    print(\"_\" * 30)\n",
    "    print(\"Bill: \", total)\n",
    "    print(\"Mobile Numbers: \", \", \".join(mobile_numbers))\n",
    "    print(\"Ages: \", \", \".join(map(str, ages)))\n",
    "    print(\"-\" * 30)\n",
    "    \n",
    "    next_p = input(\"Next person? (yes/no): \")\n",
    "    if next_p.lower() == \"no\":\n",
    "        print(\"Thank you for using the Theatre Ticket Booking System.\")\n",
    "        break\n"
   ]
  }
 ],
 "metadata": {
  "kernelspec": {
   "display_name": "Python 3 (ipykernel)",
   "language": "python",
   "name": "python3"
  },
  "language_info": {
   "codemirror_mode": {
    "name": "ipython",
    "version": 3
   },
   "file_extension": ".py",
   "mimetype": "text/x-python",
   "name": "python",
   "nbconvert_exporter": "python",
   "pygments_lexer": "ipython3",
   "version": "3.11.5"
  }
 },
 "nbformat": 4,
 "nbformat_minor": 5
}
