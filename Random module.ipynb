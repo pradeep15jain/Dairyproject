{
 "cells": [
  {
   "cell_type": "code",
   "execution_count": null,
   "id": "c6d49a51-c55b-453f-bf43-4fa416f2e06d",
   "metadata": {},
   "outputs": [],
   "source": [
    "# Use Random module to create any game in Python"
   ]
  },
  {
   "cell_type": "code",
   "execution_count": null,
   "id": "40047cc7-15cd-40e6-91fb-9f717b20f569",
   "metadata": {},
   "outputs": [
    {
     "name": "stdout",
     "output_type": "stream",
     "text": [
      "Welcome to Rock-Paper-Scissors!\n"
     ]
    },
    {
     "name": "stdin",
     "output_type": "stream",
     "text": [
      "Enter your choice (rock, paper, or scissors):  rock\n"
     ]
    },
    {
     "name": "stdout",
     "output_type": "stream",
     "text": [
      "The computer chose: scissors\n",
      "Congratulations! You win!\n"
     ]
    }
   ],
   "source": [
    "import random\n",
    "\n",
    "def rock_paper_scissors():\n",
    "    print(\"Welcome to Rock-Paper-Scissors!\")\n",
    "\n",
    "    # Define the choices\n",
    "    choices = [\"rock\", \"paper\", \"scissors\"]\n",
    "\n",
    "    while True:\n",
    "        # Player's choice\n",
    "        player_choice = input(\"Enter your choice (rock, paper, or scissors): \").lower()\n",
    "\n",
    "        # Check if the player's choice is valid\n",
    "        if player_choice in choices:\n",
    "            # Computer's choice\n",
    "            computer_choice = random.choice(choices)\n",
    "            print(f\"The computer chose: {computer_choice}\")\n",
    "\n",
    "            # Determine the winner\n",
    "            if player_choice == computer_choice:\n",
    "                print(\"It's a tie!\")\n",
    "            elif (\n",
    "                (player_choice == \"rock\" and computer_choice == \"scissors\") or\n",
    "                (player_choice == \"scissors\" and computer_choice == \"paper\") or\n",
    "                (player_choice == \"paper\" and computer_choice == \"rock\")\n",
    "            ):\n",
    "                print(\"Congratulations! You win!\")\n",
    "            else:\n",
    "                print(\"Sorry, you lose. Try again!\")\n",
    "\n",
    "            # Ask if the player wants to play again\n",
    "            play_again = input(\"Do you want to play again? (yes/no): \").lower()\n",
    "            if play_again != \"yes\":\n",
    "                break\n",
    "        else:\n",
    "            print(\"Invalid choice. Please enter rock, paper, or scissors.\")\n",
    "\n",
    "if __name__ == \"__main__\":\n",
    "    rock_paper_scissors()\n"
   ]
  }
 ],
 "metadata": {
  "kernelspec": {
   "display_name": "Python 3 (ipykernel)",
   "language": "python",
   "name": "python3"
  },
  "language_info": {
   "codemirror_mode": {
    "name": "ipython",
    "version": 3
   },
   "file_extension": ".py",
   "mimetype": "text/x-python",
   "name": "python",
   "nbconvert_exporter": "python",
   "pygments_lexer": "ipython3",
   "version": "3.11.5"
  }
 },
 "nbformat": 4,
 "nbformat_minor": 5
}
